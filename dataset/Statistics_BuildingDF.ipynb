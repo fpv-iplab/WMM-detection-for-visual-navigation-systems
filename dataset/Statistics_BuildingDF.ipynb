{
 "cells": [
  {
   "attachments": {},
   "cell_type": "markdown",
   "id": "c6c7b3e6",
   "metadata": {},
   "source": [
    "# Data Analysis"
   ]
  },
  {
   "cell_type": "code",
   "execution_count": null,
   "id": "3acbf2b0",
   "metadata": {},
   "outputs": [],
   "source": [
    "import cv2\n",
    "import matplotlib\n",
    "from matplotlib import pyplot as plt\n",
    "import numpy as np\n",
    "import json\n",
    "import os\n",
    "import sys\n",
    "from collections import defaultdict\n",
    "\n",
    "import random\n",
    "import pandas as pd\n",
    "import string\n"
   ]
  },
  {
   "attachments": {},
   "cell_type": "markdown",
   "id": "5b3d95b6",
   "metadata": {},
   "source": [
    "# Visualizzazione Dati"
   ]
  },
  {
   "cell_type": "code",
   "execution_count": null,
   "id": "af38ed65",
   "metadata": {},
   "outputs": [],
   "source": [
    "df = pd.read_csv('VirtualData_CSV.csv.csv')\n"
   ]
  },
  {
   "cell_type": "code",
   "execution_count": null,
   "metadata": {},
   "outputs": [],
   "source": [
    "print(\"Hard: \",len(df.loc[df['Difficulty'] == \"hard\"]))\n",
    "print(\"Medium: \",len(df.loc[df['Difficulty'] == \"medium\"]))\n",
    "print(\"Easy: \",len(df.loc[df['Difficulty'] == \"easy\"]))"
   ]
  },
  {
   "cell_type": "code",
   "execution_count": null,
   "id": "44f64486",
   "metadata": {},
   "outputs": [],
   "source": [
    "df[\"Model_name\"].unique()"
   ]
  },
  {
   "cell_type": "code",
   "execution_count": null,
   "id": "01db4c41",
   "metadata": {},
   "outputs": [],
   "source": [
    "dfv=df.loc[df['Difficulty'] == \"hard\"]\n",
    "random_image=random.randint(a=0,b=len(dfv)-1)"
   ]
  },
  {
   "cell_type": "code",
   "execution_count": null,
   "id": "76b0f043",
   "metadata": {},
   "outputs": [],
   "source": [
    "random_image\n",
    "\n",
    "rgb_path=dfv.iloc[random_image][\"RGB\"]\n",
    "right_line_path=dfv.iloc[random_image][\"Good_Floor_Seg\"]\n",
    "wrong_line_path=dfv.iloc[random_image][\"Wrong_Floor_Seg\"]\n",
    "rgb=cv2.imread(rgb_path)\n",
    "\n",
    "fig, axs = plt.subplots(nrows=1, ncols=2, figsize=(10, 8))\n",
    "right_line=cv2.imread(right_line_path)\n",
    "cv2.imwrite(\"/home/rforte/NotebooksMisalignmentDetection/Saved/RightFloorSeg.jpg\",right_line)\n",
    "\n",
    "wrong_line=cv2.imread(wrong_line_path)\n",
    "cv2.imwrite(\"/home/rforte/NotebooksMisalignmentDetection/Saved/WrongFloorSeg.jpg\",wrong_line)\n",
    "\n",
    "blended_right_line=cv2.addWeighted(rgb, 1, right_line, 1, 0)\n",
    "blended_wrong_line=cv2.addWeighted(rgb, 1, wrong_line, 1, 0)\n",
    "axs[0].imshow(blended_right_line[...,::-1])\n",
    "axs[0].set_title(\"GOOD FLOOR\")\n",
    "axs[1].imshow(blended_wrong_line[...,::-1])\n",
    "axs[1].set_title(\"WRONG FLOOR\")"
   ]
  },
  {
   "cell_type": "code",
   "execution_count": null,
   "id": "7aaf74de",
   "metadata": {},
   "outputs": [],
   "source": [
    "def path_visualizer(difficulty):\n",
    "    dfv=df.loc[df['Difficulty'] == difficulty]\n",
    "    random_image=random.randint(a=0,b=len(dfv)-1)\n",
    "\n",
    "    print(\"Record N°: \",random_image)\n",
    "    print(\"Wrong pixel count: \",dfv.iloc[random_image][\"Wrong_Floor_Pixel\"])\n",
    "    \n",
    "    rgb_path=dfv.iloc[random_image][\"RGB\"]\n",
    "    right_line_path=dfv.iloc[random_image][\"Good_Line_Seg\"]\n",
    "    wrong_line_path=dfv.iloc[random_image][\"Wrong_Line_Seg\"]\n",
    "    right_floor_path=dfv.iloc[random_image][\"Good_Floor_Seg\"]\n",
    "    wrong_floor_path=dfv.iloc[random_image][\"Wrong_Floor_Seg\"]\n",
    "    \n",
    "    right_navmesh_path=dfv.iloc[random_image][\"Good_Nav_Seg\"]\n",
    "    \n",
    "    rgb=cv2.imread(rgb_path)\n",
    "    \n",
    "    \n",
    "    right_line=cv2.imread(right_line_path)\n",
    "    \n",
    "    right_floor=cv2.imread(right_floor_path)\n",
    "    right_navmesh=cv2.imread(right_navmesh_path)\n",
    "    blended_right_line=cv2.addWeighted(rgb, 1, right_line, 1, 0)\n",
    "    blended_right_floor=cv2.addWeighted(rgb, 1, right_floor, 1, 0)\n",
    "    blended_right_floor_path=cv2.addWeighted(blended_right_floor,0.8, right_line, 1, 0)\n",
    "    blended_right_navmesh=cv2.addWeighted(rgb, 1, right_navmesh, 1, 0)\n",
    "\n",
    "    blended_right_nav_path=cv2.addWeighted(blended_right_navmesh,0.8, right_line, 1, 0)\n",
    "    \n",
    "\n",
    "    wrong_line=cv2.imread(wrong_line_path)\n",
    "    wrong_floor=cv2.imread(wrong_floor_path)\n",
    "    plt.imshow(wrong_floor[...,::-1])\n",
    "    blended_wrong_line=cv2.addWeighted(rgb, 1, wrong_line, 1, 0)\n",
    "    blended_wrong_floor=cv2.addWeighted(rgb, 1, wrong_floor, 1, 1)\n",
    "    blended_wrong_floor_path=cv2.addWeighted(blended_right_floor, 1, wrong_line, 1, 0)\n",
    "    \n",
    "    fig, axs = plt.subplots(nrows=2, ncols=4, figsize=(10, 8))\n",
    "    axs[0,0].imshow(rgb[...,::-1])\n",
    "    axs[0,0].set_title(\"RGB IMAGE\")\n",
    "    axs[0,1].imshow(blended_right_line[...,::-1])\n",
    "    axs[0,1].set_title(\"GOOD PATH\")\n",
    "    axs[0,2].imshow(blended_right_floor[...,::-1])\n",
    "    axs[0,2].set_title(\"GOOD FLOOR\")\n",
    "    axs[0,3].imshow(blended_right_floor_path[...,::-1])\n",
    "    axs[0,3].set_title(\"GOOD FLOOR+ GOOD PATH\")\n",
    "    \n",
    "    axs[1,0].imshow(blended_right_nav_path[...,::-1])\n",
    "    axs[1,0].set_title(\"GOOD NAV+ GOOD PATH\")\n",
    "    axs[1,1].imshow(blended_wrong_line[...,::-1])\n",
    "    axs[1,1].set_title(\"WRONG PATH\")\n",
    "    axs[1,2].imshow(blended_wrong_floor[...,::-1])\n",
    "    axs[1,2].set_title(\"WRONG FLOOR\")\n",
    "    axs[1,3].imshow(blended_wrong_floor_path[...,::-1])\n",
    "    axs[1,3].set_title(\"GOOD FLOOR+ WRONG PATH\")\n",
    "\n",
    "\n",
    "    fig.suptitle(difficulty)\n",
    "    np.set_printoptions(threshold=sys.maxsize)\n",
    "    red=(right_line[:,:,0])\n",
    "\n",
    "    print(len((red[...,::-1])[(red[...,::-1]>0)]))"
   ]
  },
  {
   "cell_type": "code",
   "execution_count": null,
   "id": "c088a92b",
   "metadata": {},
   "outputs": [],
   "source": [
    "df"
   ]
  },
  {
   "cell_type": "code",
   "execution_count": null,
   "id": "3106598b",
   "metadata": {},
   "outputs": [],
   "source": [
    "random.seed()\n",
    "path_visualizer(\"easy\")"
   ]
  },
  {
   "attachments": {},
   "cell_type": "markdown",
   "id": "99bd7270",
   "metadata": {},
   "source": [
    "## creazione file txt di test e training"
   ]
  },
  {
   "cell_type": "code",
   "execution_count": null,
   "id": "2c8723ca",
   "metadata": {},
   "outputs": [],
   "source": [
    "def txt_creator(df,file_path):\n",
    "    f=open(file_path, 'w')\n",
    "    for row in df.iterrows():\n",
    "        f.write(row[1][\"RGB\"]+\", \")\n",
    "        f.write(row[1][\"Good_Line_Seg\"]+\", \")\n",
    "        f.write(row[1][\"Good_Floor_Seg\"]+\", \")\n",
    "        f.write(row[1][\"Wrong_Line_Seg\"]+\", \")\n",
    "        f.write(row[1][\"Wrong_Floor_Seg\"]+\"\\n\")"
   ]
  },
  {
   "cell_type": "code",
   "execution_count": null,
   "id": "bc07b5a8",
   "metadata": {},
   "outputs": [],
   "source": [
    "\n",
    "from sklearn.model_selection import train_test_split\n",
    "\n",
    "train, test = train_test_split(df, test_size=0.3)\n",
    "val,test=train_test_split(test, test_size=0.5)\n",
    "print(len(train), len(val), len(test))\n",
    "txt_creator(train,\"train.txt\")\n",
    "txt_creator(val,\"validation.txt\")\n",
    "txt_creator(test,\"test.txt\")"
   ]
  },
  {
   "cell_type": "code",
   "execution_count": null,
   "id": "b0ea4baf",
   "metadata": {},
   "outputs": [],
   "source": [
    "counts = df['Difficulty'].value_counts()\n",
    "plt.bar(counts.index, counts.values)\n",
    "plt.xlabel('Difficulty')\n",
    "plt.ylabel('Elements')\n",
    "plt.show()"
   ]
  },
  {
   "cell_type": "code",
   "execution_count": null,
   "id": "948d011e",
   "metadata": {
    "scrolled": false
   },
   "outputs": [],
   "source": [
    "fig, axs = plt.subplots( ncols=2,nrows=1, figsize=(18, 8))\n",
    "\n",
    "axs[0].hist(df['Good_Line_Pixel_On_Floor'],bins=50)\n",
    "axs[0].set_title(\"Good Line Pixel On Floor\")\n",
    "axs[1].hist(df['Wrong_Line_Pixel_On_Floor'],bins=50)\n",
    "axs[1].set_title(\"Wrong Line Pixel On Floor\")"
   ]
  },
  {
   "cell_type": "code",
   "execution_count": null,
   "id": "df690586",
   "metadata": {},
   "outputs": [],
   "source": [
    "N = 500\n",
    "fig, axs = plt.subplots( ncols=2,nrows=1, figsize=(18, 8))\n",
    "\n",
    "count, bins_count = np.histogram(df['Good_Line_Pixel_On_Floor'], bins=50)\n",
    "\n",
    "pdf = count / sum(count)\n",
    "\n",
    "cdf = np.cumsum(pdf)\n",
    "\n",
    "axs[0].plot(bins_count[1:], pdf, color=\"red\", label=\"PDF\")\n",
    "axs[0].plot(bins_count[1:], cdf, label=\"CDF\")\n",
    "axs[0].set_title(\"Good Line Pixel\")\n",
    "axs[0].grid()\n",
    "count, bins_count = np.histogram(df['Wrong_Line_Pixel_On_Floor'], bins=50)\n",
    "\n",
    "pdf = count / sum(count)\n",
    "\n",
    "cdf = np.cumsum(pdf)\n",
    "\n",
    "axs[1].plot(bins_count[1:], pdf, color=\"red\", label=\"PDF\")\n",
    "axs[1].plot(bins_count[1:], cdf, label=\"CDF\")\n",
    "axs[1].set_title(\"Wrong Line Pixel\")\n",
    "axs[1].grid()"
   ]
  },
  {
   "cell_type": "code",
   "execution_count": null,
   "id": "e353682e",
   "metadata": {},
   "outputs": [],
   "source": [
    "fig, axs = plt.subplots( ncols=2,nrows=1, figsize=(10, 8))\n",
    "\n",
    "axs[0].hist(df[\"Good_Line_Pixel_On_Floor\"][df['Good_Line_Pixel_On_Floor']>=df['Wrong_Line_Pixel_On_Floor']],bins=50)\n",
    "axs[0].set_title(\"Good Line >= Wrong Line \"+str(len(df[\"Good_Line_Pixel_On_Floor\"][df['Good_Line_Pixel_On_Floor']>=df['Wrong_Line_Pixel_On_Floor']])))\n",
    "axs[1].hist(df[\"Good_Line_Pixel_On_Floor\"][df['Good_Line_Pixel_On_Floor']<df['Wrong_Line_Pixel_On_Floor']],bins=50)\n",
    "axs[1].set_title(\"Good Line < Wrong Line \"+str(len(df[\"Good_Line_Pixel_On_Floor\"][df['Good_Line_Pixel_On_Floor']<df['Wrong_Line_Pixel_On_Floor']])))"
   ]
  }
 ],
 "metadata": {
  "kernelspec": {
   "display_name": "Nairobi",
   "language": "python",
   "name": "python3"
  },
  "language_info": {
   "codemirror_mode": {
    "name": "ipython",
    "version": 3
   },
   "file_extension": ".py",
   "mimetype": "text/x-python",
   "name": "python",
   "nbconvert_exporter": "python",
   "pygments_lexer": "ipython3",
   "version": "3.9.16"
  },
  "vscode": {
   "interpreter": {
    "hash": "5e39a619bf40933bc0de978243652ed714a1fedaf67d173caa1439b2a1559031"
   }
  }
 },
 "nbformat": 4,
 "nbformat_minor": 5
}
